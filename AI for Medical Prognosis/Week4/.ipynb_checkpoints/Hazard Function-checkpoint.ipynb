{
 "cells": [
  {
   "cell_type": "markdown",
   "id": "c770401c",
   "metadata": {},
   "source": [
    "# Hazard Function\n",
    "\n",
    "In this week's lab you'll learn about implementing `Hazard Function`."
   ]
  },
  {
   "cell_type": "markdown",
   "id": "8cbb7dbc",
   "metadata": {},
   "source": [
    "## Import Packages"
   ]
  },
  {
   "cell_type": "code",
   "execution_count": 1,
   "id": "6a841d58",
   "metadata": {},
   "outputs": [],
   "source": [
    "import numpy as np\n",
    "import pandas as pd"
   ]
  },
  {
   "cell_type": "markdown",
   "id": "1378d1fd",
   "metadata": {},
   "source": [
    "Let's say we fit the hazard function\n",
    "$$\n",
    "\\lambda(t, x) = \\lambda_0(t)e^{\\theta^T X_i}\n",
    "$$\n",
    "\n",
    "So that we have the coefficients $\\theta$ for the features in $X_i$\n",
    "\n",
    "If you have a new patient, let's predict their hazard $\\lambda(t,x)$"
   ]
  },
  {
   "cell_type": "code",
   "execution_count": 2,
   "id": "7e849379",
   "metadata": {},
   "outputs": [
    {
     "data": {
      "text/plain": [
       "array([0.5, 2. ])"
      ]
     },
     "execution_count": 2,
     "metadata": {},
     "output_type": "execute_result"
    }
   ],
   "source": [
    "lambda_0 = 1\n",
    "coef = np.array([0.5,2.])\n",
    "coef"
   ]
  },
  {
   "cell_type": "code",
   "execution_count": 3,
   "id": "e47816cf",
   "metadata": {},
   "outputs": [
    {
     "data": {
      "text/html": [
       "<div>\n",
       "<style scoped>\n",
       "    .dataframe tbody tr th:only-of-type {\n",
       "        vertical-align: middle;\n",
       "    }\n",
       "\n",
       "    .dataframe tbody tr th {\n",
       "        vertical-align: top;\n",
       "    }\n",
       "\n",
       "    .dataframe thead th {\n",
       "        text-align: right;\n",
       "    }\n",
       "</style>\n",
       "<table border=\"1\" class=\"dataframe\">\n",
       "  <thead>\n",
       "    <tr style=\"text-align: right;\">\n",
       "      <th></th>\n",
       "      <th>age</th>\n",
       "      <th>cholesterol</th>\n",
       "    </tr>\n",
       "  </thead>\n",
       "  <tbody>\n",
       "    <tr>\n",
       "      <th>0</th>\n",
       "      <td>20</td>\n",
       "      <td>180</td>\n",
       "    </tr>\n",
       "    <tr>\n",
       "      <th>1</th>\n",
       "      <td>30</td>\n",
       "      <td>220</td>\n",
       "    </tr>\n",
       "    <tr>\n",
       "      <th>2</th>\n",
       "      <td>40</td>\n",
       "      <td>170</td>\n",
       "    </tr>\n",
       "  </tbody>\n",
       "</table>\n",
       "</div>"
      ],
      "text/plain": [
       "   age  cholesterol\n",
       "0   20          180\n",
       "1   30          220\n",
       "2   40          170"
      ]
     },
     "execution_count": 3,
     "metadata": {},
     "output_type": "execute_result"
    }
   ],
   "source": [
    "X = pd.DataFrame({'age': [20,30,40],\n",
    "                  'cholesterol': [180,220,170]\n",
    "                 })\n",
    "X"
   ]
  },
  {
   "cell_type": "markdown",
   "id": "7f3b1f29",
   "metadata": {},
   "source": [
    "- First, let's multiply the coefficients to the features.\n",
    "- Check the shapes of the coefficients and the features to decide which one to transpose"
   ]
  },
  {
   "cell_type": "code",
   "execution_count": 4,
   "id": "9903b0d0",
   "metadata": {},
   "outputs": [
    {
     "data": {
      "text/plain": [
       "(2,)"
      ]
     },
     "execution_count": 4,
     "metadata": {},
     "output_type": "execute_result"
    }
   ],
   "source": [
    "coef.shape"
   ]
  },
  {
   "cell_type": "code",
   "execution_count": 5,
   "id": "c605e40a",
   "metadata": {},
   "outputs": [
    {
     "data": {
      "text/plain": [
       "(3, 2)"
      ]
     },
     "execution_count": 5,
     "metadata": {},
     "output_type": "execute_result"
    }
   ],
   "source": [
    "X.shape"
   ]
  },
  {
   "cell_type": "markdown",
   "id": "09a17641",
   "metadata": {},
   "source": [
    "It looks like the coefficient is a 1D array, so transposing it won't do anything.  \n",
    "- We can transpose the X so that we're multiplying a (2,) array by a (2,3) dataframe.\n",
    "\n",
    "So the formula looks more like this (transpose $X_i$ instead of $\\theta$\n",
    "$$\n",
    "\\lambda(t, x) = \\lambda_0(t)e^{\\theta X_i^T}\n",
    "$$\n",
    "\n",
    "- Let's multiply $\\theta X_i^T$"
   ]
  },
  {
   "cell_type": "code",
   "execution_count": 6,
   "id": "a1f42548",
   "metadata": {},
   "outputs": [
    {
     "data": {
      "text/plain": [
       "array([370., 455., 360.])"
      ]
     },
     "execution_count": 6,
     "metadata": {},
     "output_type": "execute_result"
    }
   ],
   "source": [
    "np.dot(coef,X.T)"
   ]
  },
  {
   "cell_type": "markdown",
   "id": "5baa3e42",
   "metadata": {},
   "source": [
    "Calculate the hazard for the three patients (there are 3 rows in X)"
   ]
  },
  {
   "cell_type": "code",
   "execution_count": 7,
   "id": "fc75978f",
   "metadata": {},
   "outputs": [
    {
     "data": {
      "text/html": [
       "<div>\n",
       "<style scoped>\n",
       "    .dataframe tbody tr th:only-of-type {\n",
       "        vertical-align: middle;\n",
       "    }\n",
       "\n",
       "    .dataframe tbody tr th {\n",
       "        vertical-align: top;\n",
       "    }\n",
       "\n",
       "    .dataframe thead th {\n",
       "        text-align: right;\n",
       "    }\n",
       "</style>\n",
       "<table border=\"1\" class=\"dataframe\">\n",
       "  <thead>\n",
       "    <tr style=\"text-align: right;\">\n",
       "      <th></th>\n",
       "      <th>age</th>\n",
       "      <th>cholesterol</th>\n",
       "      <th>hazards</th>\n",
       "    </tr>\n",
       "  </thead>\n",
       "  <tbody>\n",
       "    <tr>\n",
       "      <th>0</th>\n",
       "      <td>20</td>\n",
       "      <td>180</td>\n",
       "      <td>4.886054e+160</td>\n",
       "    </tr>\n",
       "    <tr>\n",
       "      <th>1</th>\n",
       "      <td>30</td>\n",
       "      <td>220</td>\n",
       "      <td>4.017809e+197</td>\n",
       "    </tr>\n",
       "    <tr>\n",
       "      <th>2</th>\n",
       "      <td>40</td>\n",
       "      <td>170</td>\n",
       "      <td>2.218265e+156</td>\n",
       "    </tr>\n",
       "  </tbody>\n",
       "</table>\n",
       "</div>"
      ],
      "text/plain": [
       "   age  cholesterol        hazards\n",
       "0   20          180  4.886054e+160\n",
       "1   30          220  4.017809e+197\n",
       "2   40          170  2.218265e+156"
      ]
     },
     "execution_count": 7,
     "metadata": {},
     "output_type": "execute_result"
    }
   ],
   "source": [
    "lambdas = lambda_0 * np.exp(np.dot(coef,X.T))\n",
    "patients_df = X.copy()\n",
    "patients_df['hazards'] = lambdas\n",
    "patients_df"
   ]
  },
  {
   "cell_type": "code",
   "execution_count": null,
   "id": "8025e88b",
   "metadata": {},
   "outputs": [],
   "source": []
  },
  {
   "cell_type": "code",
   "execution_count": null,
   "id": "93e7241c",
   "metadata": {},
   "outputs": [],
   "source": []
  }
 ],
 "metadata": {
  "kernelspec": {
   "display_name": "Python 3 (ipykernel)",
   "language": "python",
   "name": "python3"
  },
  "language_info": {
   "codemirror_mode": {
    "name": "ipython",
    "version": 3
   },
   "file_extension": ".py",
   "mimetype": "text/x-python",
   "name": "python",
   "nbconvert_exporter": "python",
   "pygments_lexer": "ipython3",
   "version": "3.10.7"
  }
 },
 "nbformat": 4,
 "nbformat_minor": 5
}
